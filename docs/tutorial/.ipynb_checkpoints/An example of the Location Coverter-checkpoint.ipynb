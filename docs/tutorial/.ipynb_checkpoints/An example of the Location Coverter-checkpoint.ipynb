{
 "metadata": {
  "name": ""
 },
 "nbformat": 3,
 "nbformat_minor": 0,
 "worksheets": [
  {
   "cells": [
    {
     "cell_type": "markdown",
     "metadata": {},
     "source": [
      "<center><img src =\"http://icons.iconarchive.com/icons/alecive/flatwoken/512/Apps-Accessories-Media-Converter-icon.png\" alt=\"Converter Icon\" height=\"10%\" width=\"10%\"></center>"
     ]
    },
    {
     "cell_type": "heading",
     "level": 2,
     "metadata": {},
     "source": [
      "<h2><center><span style=\"color:black;\"> A simple example of location-history-json-converter</span></center></h2><br>"
     ]
    },
    {
     "cell_type": "markdown",
     "metadata": {},
     "source": [
      "This Python script takes the JSON file from your location history which you can get via [Google Takeout](https://accounts.google.com/ServiceLogin?service=backup&passive=1209600&) and converts it into other formats.  This notebook provides an easy to follow example for those who are newer to programming and the command line interface.  "
     ]
    },
    {
     "cell_type": "heading",
     "level": 3,
     "metadata": {},
     "source": [
      "Requirements"
     ]
    },
    {
     "cell_type": "markdown",
     "metadata": {},
     "source": [
      "This tutorial assumes:<br>\n",
      "<ul style=\"list-style:circle\">\n",
      "<li>You have already downloaded your [Google Takeout location history](https://support.google.com/accounts/answer/3118687?hl=en).  A good tutorial for downloading takeout history data [can be found here](http://googleplus.wonderhowto.com/how-to/download-your-data-with-google-takeout-0128930/).</li>\n",
      "<li>You have [Python installed](https://wiki.python.org/moin/BeginnersGuide/Download); some computers or laptops come with Python; make sure to follow insutructions that check for existing versions</li>\n",
      "<li>You have a basic understanding of the command line interface; in short, that means you know how to launch it and navigate to the directory with the location_history_json_converter.py file.  If not, a great resource is A.Shaw's [The Command Line Crash Course](http://cli.learncodethehardway.org/book/). \n"
     ]
    },
    {
     "cell_type": "heading",
     "level": 3,
     "metadata": {},
     "source": [
      "Example"
     ]
    },
    {
     "cell_type": "markdown",
     "metadata": {},
     "source": [
      "<ul style = \"list-style-type:circle\">\n",
      "<li>Open the command line iterface</li>\n",
      "<li>Enter the location of the .py file, the location of the LocationHistory.json file, and the file output type.  \n"
     ]
    },
    {
     "cell_type": "raw",
     "metadata": {},
     "source": [
      "Input:\n",
      "$ python location_history_json_converter.py 'LocationHistory.json' -o 'Test.csv' -f csv\n"
     ]
    },
    {
     "cell_type": "markdown",
     "metadata": {},
     "source": [
      "That's it!  The csv file created from the Google Takeout JSON file should now exist in your working directory.  Keep in mind, you can use a path for the \"inputfile\" or \"outputfile\" arguments.  The example above has everything in the current working directory.  But, if my LocationHistory.json file was on my dekstop, I would simply write:"
     ]
    },
    {
     "cell_type": "raw",
     "metadata": {},
     "source": [
      "Input:\n",
      "$ python location_history_json_converter.py '~/Desktop/LocationHistory.json' -o 'Test.csv' -f csv"
     ]
    },
    {
     "cell_type": "markdown",
     "metadata": {},
     "source": [
      "Note that some information will be excluded from the converted file.  The \"confidence\" and \"type\" fields from the *.json file are noticeably absent.  But, this simple example shows, in a nuthsell, how to use this scrip.  Have fun!"
     ]
    },
    {
     "cell_type": "code",
     "collapsed": false,
     "input": [],
     "language": "python",
     "metadata": {},
     "outputs": []
    }
   ],
   "metadata": {}
  }
 ]
}